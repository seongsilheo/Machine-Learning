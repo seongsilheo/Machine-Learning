{
 "cells": [
  {
   "cell_type": "code",
   "execution_count": 1,
   "metadata": {
    "collapsed": true
   },
   "outputs": [],
   "source": [
    "import torch\n",
    "import torch.nn as nn\n",
    "import torch.nn.functional as F\n",
    "import torch.optim as optim"
   ]
  },
  {
   "cell_type": "code",
   "execution_count": 2,
   "metadata": {
    "collapsed": false
   },
   "outputs": [
    {
     "data": {
      "text/plain": [
       "<torch._C.Generator at 0x7f71ff1a7d30>"
      ]
     },
     "execution_count": 2,
     "metadata": {},
     "output_type": "execute_result"
    }
   ],
   "source": [
    "# For reproducibility\n",
    "torch.manual_seed(1)"
   ]
  },
  {
   "cell_type": "markdown",
   "metadata": {},
   "source": [
    "## Training and Test Datasets"
   ]
  },
  {
   "cell_type": "code",
   "execution_count": 10,
   "metadata": {
    "collapsed": true
   },
   "outputs": [],
   "source": [
    "x_train = torch.FloatTensor([[1, 2, 1],\n",
    "                             [1, 3, 2],\n",
    "                             [1, 3, 4],\n",
    "                             [1, 5, 5],\n",
    "                             [1, 7, 5],\n",
    "                             [1, 2, 5],\n",
    "                             [1, 6, 6],\n",
    "                             [1, 7, 7]\n",
    "                            ])\n",
    "y_train = torch.LongTensor([2, 2, 2, 1, 1, 1, 0, 0])"
   ]
  },
  {
   "cell_type": "code",
   "execution_count": 11,
   "metadata": {
    "collapsed": true
   },
   "outputs": [],
   "source": [
    "x_test = torch.FloatTensor([[2, 1, 1], [3, 1, 2], [3, 3, 4]])\n",
    "y_test = torch.LongTensor([2, 2, 2])"
   ]
  },
  {
   "cell_type": "markdown",
   "metadata": {},
   "source": [
    "## Model"
   ]
  },
  {
   "cell_type": "code",
   "execution_count": 26,
   "metadata": {
    "collapsed": true
   },
   "outputs": [],
   "source": [
    "class SoftmaxClassifierModel(nn.Module):\n",
    "    def __init__(self):\n",
    "        super().__init__()\n",
    "        self.linear = nn.Linear(3,3)\n",
    "    def forward(self, x):\n",
    "        return self.linear(x)"
   ]
  },
  {
   "cell_type": "code",
   "execution_count": 27,
   "metadata": {
    "collapsed": false
   },
   "outputs": [],
   "source": [
    "model = SoftmaxClassifierModel()"
   ]
  },
  {
   "cell_type": "code",
   "execution_count": 28,
   "metadata": {
    "collapsed": true
   },
   "outputs": [],
   "source": [
    "#optimizer 설정\n",
    "optimizer = optim.SGD(model.parameters(), lr=0.1)"
   ]
  },
  {
   "cell_type": "code",
   "execution_count": 29,
   "metadata": {
    "collapsed": true
   },
   "outputs": [],
   "source": [
    "def train(model, optimizer, x_train, y_train):\n",
    "    nb_epochs = 20\n",
    "    for epoch in range(nb_epochs):\n",
    "        \n",
    "        # H(x) 계산\n",
    "        prediction = model(x_train)\n",
    "        \n",
    "        # cost 계산\n",
    "        cost = F.cross_entropy(prediction, y_train)\n",
    "        \n",
    "        # cost로 H(x) 개선\n",
    "        optimizer.zero_grad()\n",
    "        cost.backward()\n",
    "        optimizer.step()\n",
    "        \n",
    "        print('Epoch {:4d}/{} Cost: {:.6f}'.format(epoch, nb_epochs, cost.item()))"
   ]
  },
  {
   "cell_type": "code",
   "execution_count": 41,
   "metadata": {
    "collapsed": true
   },
   "outputs": [],
   "source": [
    "def test(model, optimizer, x_test, y_test):\n",
    "    prediction = model(x_test)\n",
    "    predicted_classes = prediction.max(1)[1]  #제일 큰 클래스 찾아서 index호출\n",
    "    correct_count = (predicted_classes == y_test).sum().item()  #item: tensor(3) -> 3출력\n",
    "    cost = F.cross_entropy(prediction, y_test)\n",
    "    \n",
    "    print('Accuracy: {}% Cost: {:.6f}'.format(correct_count / len(y_test) * 100, cost.item()))"
   ]
  },
  {
   "cell_type": "code",
   "execution_count": 30,
   "metadata": {
    "collapsed": false
   },
   "outputs": [
    {
     "name": "stdout",
     "output_type": "stream",
     "text": [
      "Epoch    0/20 Cost: 2.939317\n",
      "Epoch    1/20 Cost: 1.887239\n",
      "Epoch    2/20 Cost: 1.055398\n",
      "Epoch    3/20 Cost: 0.936401\n",
      "Epoch    4/20 Cost: 0.917493\n",
      "Epoch    5/20 Cost: 0.911811\n",
      "Epoch    6/20 Cost: 0.906384\n",
      "Epoch    7/20 Cost: 0.901102\n",
      "Epoch    8/20 Cost: 0.895959\n",
      "Epoch    9/20 Cost: 0.890947\n",
      "Epoch   10/20 Cost: 0.886062\n",
      "Epoch   11/20 Cost: 0.881298\n",
      "Epoch   12/20 Cost: 0.876650\n",
      "Epoch   13/20 Cost: 0.872114\n",
      "Epoch   14/20 Cost: 0.867685\n",
      "Epoch   15/20 Cost: 0.863359\n",
      "Epoch   16/20 Cost: 0.859132\n",
      "Epoch   17/20 Cost: 0.855000\n",
      "Epoch   18/20 Cost: 0.850961\n",
      "Epoch   19/20 Cost: 0.847009\n"
     ]
    }
   ],
   "source": [
    "train(model, optimizer, x_train, y_train)"
   ]
  },
  {
   "cell_type": "code",
   "execution_count": 42,
   "metadata": {
    "collapsed": false
   },
   "outputs": [
    {
     "name": "stdout",
     "output_type": "stream",
     "text": [
      "Accuracy: 100.0% Cost: 0.208701\n"
     ]
    }
   ],
   "source": [
    "test(model, optimizer, x_test, y_test)"
   ]
  },
  {
   "cell_type": "markdown",
   "metadata": {},
   "source": [
    "## Learning Rate"
   ]
  },
  {
   "cell_type": "markdown",
   "metadata": {},
   "source": [
    "Learning rate 너무 크면 diverge 하면서 cost가 점점 증가"
   ]
  },
  {
   "cell_type": "code",
   "execution_count": 43,
   "metadata": {
    "collapsed": true
   },
   "outputs": [],
   "source": [
    "model = SoftmaxClassifierModel()"
   ]
  },
  {
   "cell_type": "code",
   "execution_count": 44,
   "metadata": {
    "collapsed": true
   },
   "outputs": [],
   "source": [
    "optimizer = optim.SGD(model.parameters(), lr=1e5)  # 1* 10^5"
   ]
  },
  {
   "cell_type": "code",
   "execution_count": 45,
   "metadata": {
    "collapsed": false
   },
   "outputs": [
    {
     "name": "stdout",
     "output_type": "stream",
     "text": [
      "Epoch    0/20 Cost: 2.382223\n",
      "Epoch    1/20 Cost: 1479108.750000\n",
      "Epoch    2/20 Cost: 1953944.250000\n",
      "Epoch    3/20 Cost: 469329.562500\n",
      "Epoch    4/20 Cost: 1434301.875000\n",
      "Epoch    5/20 Cost: 687817.562500\n",
      "Epoch    6/20 Cost: 1221131.750000\n",
      "Epoch    7/20 Cost: 1524926.750000\n",
      "Epoch    8/20 Cost: 1529108.750000\n",
      "Epoch    9/20 Cost: 710864.250000\n",
      "Epoch   10/20 Cost: 1109692.500000\n",
      "Epoch   11/20 Cost: 1453944.250000\n",
      "Epoch   12/20 Cost: 801489.312500\n",
      "Epoch   13/20 Cost: 1940046.250000\n",
      "Epoch   14/20 Cost: 91740.093750\n",
      "Epoch   15/20 Cost: 1075317.500000\n",
      "Epoch   16/20 Cost: 1160194.250000\n",
      "Epoch   17/20 Cost: 934301.750000\n",
      "Epoch   18/20 Cost: 1904108.750000\n",
      "Epoch   19/20 Cost: 197872.500000\n"
     ]
    }
   ],
   "source": [
    "train(model, optimizer, x_train, y_train)"
   ]
  },
  {
   "cell_type": "markdown",
   "metadata": {},
   "source": [
    "작으면 cost가 거의 줄어들지 않는다."
   ]
  },
  {
   "cell_type": "code",
   "execution_count": 46,
   "metadata": {
    "collapsed": true
   },
   "outputs": [],
   "source": [
    "model = SoftmaxClassifierModel()"
   ]
  },
  {
   "cell_type": "code",
   "execution_count": 47,
   "metadata": {
    "collapsed": true
   },
   "outputs": [],
   "source": [
    "optimizer = optim.SGD(model.parameters(), lr=1e-10)  #1 * 10^-10"
   ]
  },
  {
   "cell_type": "code",
   "execution_count": 48,
   "metadata": {
    "collapsed": false
   },
   "outputs": [
    {
     "name": "stdout",
     "output_type": "stream",
     "text": [
      "Epoch    0/20 Cost: 1.609761\n",
      "Epoch    1/20 Cost: 1.609761\n",
      "Epoch    2/20 Cost: 1.609761\n",
      "Epoch    3/20 Cost: 1.609761\n",
      "Epoch    4/20 Cost: 1.609761\n",
      "Epoch    5/20 Cost: 1.609761\n",
      "Epoch    6/20 Cost: 1.609761\n",
      "Epoch    7/20 Cost: 1.609761\n",
      "Epoch    8/20 Cost: 1.609761\n",
      "Epoch    9/20 Cost: 1.609761\n",
      "Epoch   10/20 Cost: 1.609761\n",
      "Epoch   11/20 Cost: 1.609761\n",
      "Epoch   12/20 Cost: 1.609761\n",
      "Epoch   13/20 Cost: 1.609761\n",
      "Epoch   14/20 Cost: 1.609761\n",
      "Epoch   15/20 Cost: 1.609761\n",
      "Epoch   16/20 Cost: 1.609761\n",
      "Epoch   17/20 Cost: 1.609761\n",
      "Epoch   18/20 Cost: 1.609761\n",
      "Epoch   19/20 Cost: 1.609761\n"
     ]
    }
   ],
   "source": [
    "train(model, optimizer, x_train, y_train)"
   ]
  },
  {
   "cell_type": "markdown",
   "metadata": {},
   "source": [
    "적절한 learning rate을 찾자."
   ]
  },
  {
   "cell_type": "code",
   "execution_count": 50,
   "metadata": {
    "collapsed": true
   },
   "outputs": [],
   "source": [
    "model = SoftmaxClassifierModel()"
   ]
  },
  {
   "cell_type": "code",
   "execution_count": 51,
   "metadata": {
    "collapsed": true
   },
   "outputs": [],
   "source": [
    "optimizer = optim.SGD(model.parameters(), lr=1e-1)"
   ]
  },
  {
   "cell_type": "code",
   "execution_count": 52,
   "metadata": {
    "collapsed": false
   },
   "outputs": [
    {
     "name": "stdout",
     "output_type": "stream",
     "text": [
      "Epoch    0/20 Cost: 2.395043\n",
      "Epoch    1/20 Cost: 1.349992\n",
      "Epoch    2/20 Cost: 1.172284\n",
      "Epoch    3/20 Cost: 1.154202\n",
      "Epoch    4/20 Cost: 1.143523\n",
      "Epoch    5/20 Cost: 1.133134\n",
      "Epoch    6/20 Cost: 1.123014\n",
      "Epoch    7/20 Cost: 1.113150\n",
      "Epoch    8/20 Cost: 1.103535\n",
      "Epoch    9/20 Cost: 1.094160\n",
      "Epoch   10/20 Cost: 1.085017\n",
      "Epoch   11/20 Cost: 1.076100\n",
      "Epoch   12/20 Cost: 1.067403\n",
      "Epoch   13/20 Cost: 1.058919\n",
      "Epoch   14/20 Cost: 1.050642\n",
      "Epoch   15/20 Cost: 1.042567\n",
      "Epoch   16/20 Cost: 1.034689\n",
      "Epoch   17/20 Cost: 1.027001\n",
      "Epoch   18/20 Cost: 1.019498\n",
      "Epoch   19/20 Cost: 1.012176\n"
     ]
    }
   ],
   "source": [
    "train(model, optimizer, x_train, y_train)"
   ]
  },
  {
   "cell_type": "markdown",
   "metadata": {},
   "source": [
    "## Data Preprocessing (데이터 전처리)\n",
    "\n",
    "데이터를 zero-center하고 normalize하자."
   ]
  },
  {
   "cell_type": "code",
   "execution_count": 58,
   "metadata": {
    "collapsed": true
   },
   "outputs": [],
   "source": [
    "x_train = torch.FloatTensor([[73, 80, 75],\n",
    "                             [93, 88, 93],\n",
    "                             [89, 91, 90],\n",
    "                             [96, 98, 100],\n",
    "                             [73, 66, 70]])\n",
    "y_train = torch.FloatTensor([[152], [185], [180], [196], [142]])"
   ]
  },
  {
   "cell_type": "code",
   "execution_count": 59,
   "metadata": {
    "collapsed": true
   },
   "outputs": [],
   "source": [
    "mu = x_train.mean(dim=0)"
   ]
  },
  {
   "cell_type": "code",
   "execution_count": 60,
   "metadata": {
    "collapsed": true
   },
   "outputs": [],
   "source": [
    "sigma = x_train.std(dim=0)"
   ]
  },
  {
   "cell_type": "code",
   "execution_count": 61,
   "metadata": {
    "collapsed": true
   },
   "outputs": [],
   "source": [
    "norm_x_train = (x_train - mu) /sigma"
   ]
  },
  {
   "cell_type": "code",
   "execution_count": 62,
   "metadata": {
    "collapsed": false
   },
   "outputs": [
    {
     "name": "stdout",
     "output_type": "stream",
     "text": [
      "tensor([[-1.0674, -0.3758, -0.8398],\n",
      "        [ 0.7418,  0.2778,  0.5863],\n",
      "        [ 0.3799,  0.5229,  0.3486],\n",
      "        [ 1.0132,  1.0948,  1.1409],\n",
      "        [-1.0674, -1.5197, -1.2360]])\n"
     ]
    }
   ],
   "source": [
    "print(norm_x_train)"
   ]
  },
  {
   "cell_type": "markdown",
   "metadata": {},
   "source": [
    "Normalize한 X로 학습해서 성능을 보자."
   ]
  },
  {
   "cell_type": "code",
   "execution_count": 63,
   "metadata": {
    "collapsed": true
   },
   "outputs": [],
   "source": [
    "class MultivariateLinearRegressionModel(nn.Module):\n",
    "    def __init__(self):\n",
    "        super().__init__()\n",
    "        self.linear = nn.Linear(3, 1)\n",
    "\n",
    "    def forward(self, x):\n",
    "        return self.linear(x)"
   ]
  },
  {
   "cell_type": "code",
   "execution_count": 64,
   "metadata": {
    "collapsed": true
   },
   "outputs": [],
   "source": [
    "model = MultivariateLinearRegressionModel()"
   ]
  },
  {
   "cell_type": "code",
   "execution_count": 65,
   "metadata": {
    "collapsed": true
   },
   "outputs": [],
   "source": [
    "optimizer = optim.SGD(model.parameters(), lr=1e-1)"
   ]
  },
  {
   "cell_type": "code",
   "execution_count": 66,
   "metadata": {
    "collapsed": true
   },
   "outputs": [],
   "source": [
    "def train(model, optimizer, x_train, y_train):\n",
    "    nb_epochs = 20\n",
    "    for epoch in range(nb_epochs):\n",
    "\n",
    "        # H(x) 계산\n",
    "        prediction = model(x_train)\n",
    "\n",
    "        # cost 계산\n",
    "        cost = F.mse_loss(prediction, y_train)\n",
    "\n",
    "        # cost로 H(x) 개선\n",
    "        optimizer.zero_grad()\n",
    "        cost.backward()\n",
    "        optimizer.step()\n",
    "\n",
    "        print('Epoch {:4d}/{} Cost: {:.6f}'.format(\n",
    "            epoch, nb_epochs, cost.item()\n",
    "        ))"
   ]
  },
  {
   "cell_type": "code",
   "execution_count": 67,
   "metadata": {
    "collapsed": false
   },
   "outputs": [
    {
     "name": "stdout",
     "output_type": "stream",
     "text": [
      "Epoch    0/20 Cost: 29719.888672\n",
      "Epoch    1/20 Cost: 18875.125000\n",
      "Epoch    2/20 Cost: 12037.903320\n",
      "Epoch    3/20 Cost: 7692.179199\n",
      "Epoch    4/20 Cost: 4919.670898\n",
      "Epoch    5/20 Cost: 3147.807617\n",
      "Epoch    6/20 Cost: 2014.549072\n",
      "Epoch    7/20 Cost: 1289.471313\n",
      "Epoch    8/20 Cost: 825.476257\n",
      "Epoch    9/20 Cost: 528.530457\n",
      "Epoch   10/20 Cost: 338.482910\n",
      "Epoch   11/20 Cost: 216.847229\n",
      "Epoch   12/20 Cost: 138.993744\n",
      "Epoch   13/20 Cost: 89.161407\n",
      "Epoch   14/20 Cost: 57.262451\n",
      "Epoch   15/20 Cost: 36.840946\n",
      "Epoch   16/20 Cost: 23.765465\n",
      "Epoch   17/20 Cost: 15.391519\n",
      "Epoch   18/20 Cost: 10.026782\n",
      "Epoch   19/20 Cost: 6.588136\n"
     ]
    }
   ],
   "source": [
    "train(model, optimizer, norm_x_train, y_train)"
   ]
  },
  {
   "cell_type": "markdown",
   "metadata": {},
   "source": [
    "특히 y_train 사이즈가 (m,)이 아닌 (m,2)라면,\n",
    "또 값은 [1000  0.1] [999  0.2]  [800  -0.3]\n",
    "다음과 같으면, 전처리없이 하면 큰값들에만 집중을 할 것이다. "
   ]
  },
  {
   "cell_type": "markdown",
   "metadata": {},
   "source": [
    "## Overfitting\n",
    "\n",
    "overfitting을 방지하는 방법\n",
    "1. 더 많은 학습 데이터\n",
    "2. 더 적은 양의 feature\n",
    "3. Regularization"
   ]
  },
  {
   "cell_type": "code",
   "execution_count": null,
   "metadata": {
    "collapsed": true
   },
   "outputs": [],
   "source": []
  }
 ],
 "metadata": {
  "anaconda-cloud": {},
  "kernelspec": {
   "display_name": "Python [conda env:test]",
   "language": "python",
   "name": "conda-env-test-py"
  },
  "language_info": {
   "codemirror_mode": {
    "name": "ipython",
    "version": 3
   },
   "file_extension": ".py",
   "mimetype": "text/x-python",
   "name": "python",
   "nbconvert_exporter": "python",
   "pygments_lexer": "ipython3",
   "version": "3.6.8"
  }
 },
 "nbformat": 4,
 "nbformat_minor": 1
}
