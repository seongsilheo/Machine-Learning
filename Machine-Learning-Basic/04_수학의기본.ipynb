{
 "cells": [
  {
   "cell_type": "markdown",
   "metadata": {},
   "source": [
    "<br/>\n",
    "\n",
    "# Chapter 4. 머신러닝에 필요한 수학의 기본\n",
    "# 4.1 벡터\n",
    "## 4.1.1 벡터란\n",
    "\n",
    "벡터는 몇 가지 숫자를 세로 또는 가로로 나란히 나타낸 것이다. 벡터를 구성하는 숫자 하나하나를 **요소**라고 부르며, 벡터가 가지는 요소의 수를 벡터의 차원이라고 한다. 그리고, 벡터에 대해 지금까지 살펴폰 '일반적인 숫자의 묶음(집합)'을 **스칼라**라고 부른다. 이 책에서 스칼라는 a,b와 같이 소문자 이탤릭체로 표시한다.\n",
    "<br/>\n",
    "T라는 기호는 벡터의 오른쪽 위에 쓰며, 세로 벡터를 가로 벡터로, 가로 벡터를 세로 벡터로 변환한다는 의미이다. 이 T를 **전치**라고 부른다.\n",
    "![식4-3](./img/vector.png)\n",
    "\n",
    "<br/><br/><br/>\n",
    "\n",
    "## 4.1.2 파이썬으로 벡터를 정의하기"
   ]
  },
  {
   "cell_type": "code",
   "execution_count": 2,
   "metadata": {},
   "outputs": [
    {
     "name": "stdout",
     "output_type": "stream",
     "text": [
      "[2 1]\n"
     ]
    }
   ],
   "source": [
    "#리스트 4-1-(1,2)\n",
    "import numpy as np\n",
    "\n",
    "a = np.array([2,1])\n",
    "print(a)"
   ]
  },
  {
   "cell_type": "code",
   "execution_count": 2,
   "metadata": {},
   "outputs": [
    {
     "data": {
      "text/plain": [
       "numpy.ndarray"
      ]
     },
     "execution_count": 2,
     "metadata": {},
     "output_type": "execute_result"
    }
   ],
   "source": [
    "#리스트 4-1-(3)\n",
    "type(a)"
   ]
  },
  {
   "cell_type": "markdown",
   "metadata": {},
   "source": [
    "<br/><br/><br/>\n",
    "## 4.1.3 세로 벡터를 나타내기"
   ]
  },
  {
   "cell_type": "code",
   "execution_count": 4,
   "metadata": {},
   "outputs": [
    {
     "name": "stdout",
     "output_type": "stream",
     "text": [
      "[[1 2]\n",
      " [3 4]]\n"
     ]
    }
   ],
   "source": [
    "#리스트 4-1-(4)\n",
    "\n",
    "c = np.array([[1,2],[3,4]])\n",
    "print(c)"
   ]
  },
  {
   "cell_type": "code",
   "execution_count": 5,
   "metadata": {},
   "outputs": [
    {
     "name": "stdout",
     "output_type": "stream",
     "text": [
      "[[1]\n",
      " [2]]\n"
     ]
    }
   ],
   "source": [
    "#리스트 4-1-(5)\n",
    "d = np.array([[1],[2]])\n",
    "print(d)"
   ]
  },
  {
   "cell_type": "markdown",
   "metadata": {},
   "source": [
    "<br/><br/><br/>\n",
    "\n",
    "## 4.1.4 전치를 나타내기\n",
    "전치는 **변수명.T**로 나타낸다."
   ]
  },
  {
   "cell_type": "code",
   "execution_count": 6,
   "metadata": {},
   "outputs": [
    {
     "name": "stdout",
     "output_type": "stream",
     "text": [
      "[[1 2]]\n"
     ]
    }
   ],
   "source": [
    "#리스트 4-1-(6)\n",
    "print(d.T)"
   ]
  },
  {
   "cell_type": "markdown",
   "metadata": {},
   "source": [
    "<br/><br/><br/>\n",
    "## 4.1.5 덧셈과 뺄셈\n",
    "\n",
    "![그림4-1](./img/add.png)\n",
    "\n",
    "벡터는 도형으로 해석할 수 있다. 벡터의 요소를 좌표 점으로 생각하고, 벡터를 원점에서 좌표 점으로 향하는 화살표로 해석한다. 단순히 각 요소를 더하는 벡터의 덧셈과 뺄셈은, a와 b를 변으로 하는 평행 사변형의 '대각선을 구하는 연산'으로 해석할 수 있다."
   ]
  },
  {
   "cell_type": "code",
   "execution_count": 7,
   "metadata": {},
   "outputs": [
    {
     "name": "stdout",
     "output_type": "stream",
     "text": [
      "[3 4]\n"
     ]
    }
   ],
   "source": [
    "#리스트 4-1-(7)\n",
    "a = np.array([2,1])\n",
    "b = np.array([1,3])\n",
    "print(a + b)"
   ]
  },
  {
   "cell_type": "markdown",
   "metadata": {},
   "source": [
    "**a + b**의 덧셈을 하면 기대한 대답이 되돌아온다. a와 b가 list형이 아닌 벡터로 다루어지고 있는 것을 알 수 있다."
   ]
  },
  {
   "cell_type": "code",
   "execution_count": 9,
   "metadata": {},
   "outputs": [
    {
     "data": {
      "text/plain": [
       "[1, 2, 3, 4]"
      ]
     },
     "execution_count": 9,
     "metadata": {},
     "output_type": "execute_result"
    }
   ],
   "source": [
    "x = [1,2]\n",
    "y = [3,4]\n",
    "x + y"
   ]
  },
  {
   "cell_type": "markdown",
   "metadata": {},
   "source": [
    "뻴셈도 마찬가지이다.\n",
    "![그림4-2](./img/sub.png)"
   ]
  },
  {
   "cell_type": "code",
   "execution_count": 12,
   "metadata": {},
   "outputs": [
    {
     "name": "stdout",
     "output_type": "stream",
     "text": [
      "[ 1 -2]\n"
     ]
    }
   ],
   "source": [
    "#리스트 4-1-(8)\n",
    "a = np.array([2,1])\n",
    "b = np.array([1,3])\n",
    "print(a - b)"
   ]
  },
  {
   "cell_type": "markdown",
   "metadata": {},
   "source": [
    "<br/><br/><br/>\n",
    "## 4.1.6 스칼라의 곱셈\n",
    "\n",
    "스칼라에 벡터를 곱하면 스칼라 값이 벡터의 요소 전체에 적용된다.\n",
    "![그림4-3](./img/mul.png)"
   ]
  },
  {
   "cell_type": "code",
   "execution_count": 13,
   "metadata": {},
   "outputs": [
    {
     "name": "stdout",
     "output_type": "stream",
     "text": [
      "[4 2]\n"
     ]
    }
   ],
   "source": [
    "# 리스트 4-1-(9)\n",
    "\n",
    "print(2 * a)"
   ]
  },
  {
   "cell_type": "markdown",
   "metadata": {},
   "source": [
    "<br/><br/><br/>\n",
    "## 4.1.7 내적\n",
    "벡터에는 내적이라고 부르는 곱셈 연산이 있으며, 머신러닝의 수학에서 자주 등장한다. 내적은 같은 차원을 가진 두 벡터 간의 연산으로, \"·\"로 나타낸다. 대응하는 요소들을 곱한뒤 더한 값을 취한다. 내적의 예는 다음과 같다. \n",
    "![그림4-4](./img/내적.png)\n",
    "\n",
    "내적이란 그림과 같이 b를 c로 투영한 벡터를 b'로 하여 b'와 c의 길이를 곱해 합한 것이다.\n",
    "<br/>\n",
    "내적이 큰 값을 갖는 경우는 두 벡터가 비슷한 방향을 향할 때이다. 반대로 내적이 작은 값을 갖는 경우는 두 벡터가 수직에 가까울 때이다. 완전한 수직이 되면 내적은 0이다. 즉, 내적은 두 벡터의 유사성과 관련이 있다.\n",
    "<br/>\n",
    "내적은 벡터의 크기 자체에도 관계됨을 주의하자. 두 벡터의 방향이 같더라도, 한 쪽의 벡터 크기가 2배가 되면 내적도 2배가 된다."
   ]
  },
  {
   "cell_type": "code",
   "execution_count": 4,
   "metadata": {},
   "outputs": [
    {
     "name": "stdout",
     "output_type": "stream",
     "text": [
      "10\n"
     ]
    }
   ],
   "source": [
    "#리스트 4-1-(10)\n",
    "b = np.array([1,3])\n",
    "c = np.array([4,2])\n",
    "print(b.dot(c))"
   ]
  },
  {
   "cell_type": "markdown",
   "metadata": {},
   "source": [
    "<br/><br/><br/>\n",
    "## 4.1.8 벡터의 크기\n",
    "벡터의 크기는 |와 |의 사이에 나타낸다. 2차원 베터의 크기는 다음과 같이 계산할 수 있다.\n",
    "![식4-10](./img/크기.png)"
   ]
  },
  {
   "cell_type": "markdown",
   "metadata": {},
   "source": [
    "파이썬에서는 **np.linalg.norm()**으로 벡터의 크기를 구할 수 있다."
   ]
  },
  {
   "cell_type": "code",
   "execution_count": 5,
   "metadata": {},
   "outputs": [
    {
     "name": "stdout",
     "output_type": "stream",
     "text": [
      "3.1622776601683795\n"
     ]
    }
   ],
   "source": [
    "# 리스트 4-1-(11)\n",
    "a = np.array([1,3])\n",
    "print(np.linalg.norm(a))"
   ]
  },
  {
   "cell_type": "markdown",
   "metadata": {},
   "source": [
    "<br/><br/><br/>\n",
    "# 4.2 합의 기호\n",
    "5.1절부터 합의 기호 ∑(시그마)가 등장한다. ∑는 긴 덧셈을 간결하게 나타내는 방법이다. 다음은 '∑ 기호의 오른쪽 f(n)에 대해서, n을 a부터 1씩 늘력 b가 될 때까지 변화시키면서 모두 더한다'는 의미를 가지고 있다.\n",
    "![그림4.2](./img/420.png)"
   ]
  },
  {
   "cell_type": "markdown",
   "metadata": {},
   "source": [
    "## 4.2.1 합의 기호가 들어간 수식을 변형시키기\n",
    "![그림4-2-1](./img/421.png)\n"
   ]
  },
  {
   "cell_type": "markdown",
   "metadata": {},
   "source": [
    "<br/><br/><br/>\n",
    "## 4.2.2 합을 내적으로 계산하기\n",
    "∑는 프로그래밍에서 말하는 for문과 같은 것이지만, 내적에도 관계하고 있으므로 ∑는 내적으로도 계산할 수 있다. 예를 들어 1부터 1000까지의 합은 다음과 같다.\n",
    "![그림4-2-2](./img/422.png)"
   ]
  },
  {
   "cell_type": "code",
   "execution_count": 9,
   "metadata": {},
   "outputs": [
    {
     "name": "stdout",
     "output_type": "stream",
     "text": [
      "500500.0\n"
     ]
    }
   ],
   "source": [
    "#리스트 4-2-(1)\n",
    "import numpy as np\n",
    "a = np.ones(1000) #[1 1 ... 1]\n",
    "b = np.arange(1,1001) #[1 2 3 ... 1000]\n",
    "print(a.dot(b))"
   ]
  },
  {
   "cell_type": "markdown",
   "metadata": {},
   "source": [
    "## 4.3 곱의 기호\n",
    "합의 기호∑와 사용법이 비슷한 곱의 기호 π도 있다.\n",
    "![그림4-3](./img/430.png)"
   ]
  },
  {
   "cell_type": "markdown",
   "metadata": {},
   "source": [
    "# 4.4 미분\n",
    "머신러닝은 결국 함수에서 최소나 최대인 입력을 찾는 문제(최적화 문제)이다. 함수의 최소 지점은 기울기가 0이 되는 성질이 있으므로 이러한 문제를 풀려면 함수의 기울기를 아는 것이 중요하다. 그 함수의 기울기를 도출하는 방법이 '미분'이다. 이 책에서는 오차 함수의 최솟값을 구하기 위한 방법으로 편미분이 등장한다.\n",
    "\n",
    "## 4.4.1 다항식의 미분\n",
    "![4-4-1](./img/441.png)\n",
    "\n",
    "<br/><br/><br/>\n",
    "\n",
    "## 4.4.2 미분 기호가 들어간 수식의 변형\n",
    "![4-4-2](./img/442.png)\n",
    "\n",
    "<br/><br/><br/>\n",
    "\n",
    "## 4.4.3 중첩된 함수의 미분\n",
    "![4-4-3](./img/443.png)\n",
    "\n",
    "<br/><br/><br/>\n",
    "## 4.4.4 중첩된 함수의 미분: 연쇄 법칙\n",
    "![4-4-4](./img/444.png)"
   ]
  },
  {
   "cell_type": "code",
   "execution_count": null,
   "metadata": {},
   "outputs": [],
   "source": []
  }
 ],
 "metadata": {
  "kernelspec": {
   "display_name": "Python 3",
   "language": "python",
   "name": "python3"
  },
  "language_info": {
   "codemirror_mode": {
    "name": "ipython",
    "version": 3
   },
   "file_extension": ".py",
   "mimetype": "text/x-python",
   "name": "python",
   "nbconvert_exporter": "python",
   "pygments_lexer": "ipython3",
   "version": "3.7.1"
  }
 },
 "nbformat": 4,
 "nbformat_minor": 2
}
