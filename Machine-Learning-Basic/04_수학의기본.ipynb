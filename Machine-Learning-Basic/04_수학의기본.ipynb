{
 "cells": [
  {
   "cell_type": "markdown",
   "metadata": {},
   "source": [
    "<br/>\n",
    "\n",
    "# Chapter 4. 머신러닝에 필요한 수학의 기본\n",
    "# 4.1 벡터\n",
    "## 4.1.1 벡터란\n",
    "\n",
    "벡터는 몇 가지 숫자를 세로 또는 가로로 나란히 나타낸 것이다. 벡터를 구성하는 숫자 하나하나를 **요소**라고 부르며, 벡터가 가지는 요소의 수를 벡터의 차원이라고 한다. 그리고, 벡터에 대해 지금까지 살펴폰 '일반적인 숫자의 묶음(집합)'을 **스칼라**라고 부른다. 이 책에서 스칼라는 a,b와 같이 소문자 이탤릭체로 표시한다.\n",
    "<br/>\n",
    "T라는 기호는 벡터의 오른쪽 위에 쓰며, 세로 벡터를 가로 벡터로, 가로 벡터를 세로 벡터로 변환한다는 의미이다. 이 T를 **전치**라고 부른다.\n",
    "\n",
    "<img src=\"img/411.png\" width=\"700\">\n",
    "<br/><br/><br/>\n",
    "\n",
    "## 4.1.2 파이썬으로 벡터를 정의하기"
   ]
  },
  {
   "cell_type": "code",
   "execution_count": 2,
   "metadata": {},
   "outputs": [
    {
     "name": "stdout",
     "output_type": "stream",
     "text": [
      "[2 1]\n"
     ]
    }
   ],
   "source": [
    "#리스트 4-1-(1,2)\n",
    "import numpy as np\n",
    "\n",
    "a = np.array([2,1])\n",
    "print(a)"
   ]
  },
  {
   "cell_type": "code",
   "execution_count": 2,
   "metadata": {},
   "outputs": [
    {
     "data": {
      "text/plain": [
       "numpy.ndarray"
      ]
     },
     "execution_count": 2,
     "metadata": {},
     "output_type": "execute_result"
    }
   ],
   "source": [
    "#리스트 4-1-(3)\n",
    "type(a)"
   ]
  },
  {
   "cell_type": "markdown",
   "metadata": {},
   "source": [
    "<br/><br/><br/>\n",
    "## 4.1.3 세로 벡터를 나타내기"
   ]
  },
  {
   "cell_type": "code",
   "execution_count": 4,
   "metadata": {},
   "outputs": [
    {
     "name": "stdout",
     "output_type": "stream",
     "text": [
      "[[1 2]\n",
      " [3 4]]\n"
     ]
    }
   ],
   "source": [
    "#리스트 4-1-(4)\n",
    "\n",
    "c = np.array([[1,2],[3,4]])\n",
    "print(c)"
   ]
  },
  {
   "cell_type": "code",
   "execution_count": 5,
   "metadata": {},
   "outputs": [
    {
     "name": "stdout",
     "output_type": "stream",
     "text": [
      "[[1]\n",
      " [2]]\n"
     ]
    }
   ],
   "source": [
    "#리스트 4-1-(5)\n",
    "d = np.array([[1],[2]])\n",
    "print(d)"
   ]
  },
  {
   "cell_type": "markdown",
   "metadata": {},
   "source": [
    "<br/><br/><br/>\n",
    "\n",
    "## 4.1.4 전치를 나타내기\n",
    "전치는 **변수명.T**로 나타낸다."
   ]
  },
  {
   "cell_type": "code",
   "execution_count": 6,
   "metadata": {},
   "outputs": [
    {
     "name": "stdout",
     "output_type": "stream",
     "text": [
      "[[1 2]]\n"
     ]
    }
   ],
   "source": [
    "#리스트 4-1-(6)\n",
    "print(d.T)"
   ]
  },
  {
   "cell_type": "markdown",
   "metadata": {},
   "source": [
    "<br/><br/><br/>\n",
    "## 4.1.5 덧셈과 뺄셈\n",
    "\n",
    "<img src=\"img/415-1.png\" width=\"700\" align=\"left\">\n",
    "\n",
    "<br/><br/><br/><br/><br/><br/><br/><br/><br/><br/><br><br/><br/><br/>\n",
    "벡터는 도형으로 해석할 수 있다. 벡터의 요소를 좌표 점으로 생각하고, 벡터를 원점에서 좌표 점으로 향하는 화살표로 해석한다. 단순히 각 요소를 더하는 벡터의 덧셈과 뺄셈은, a와 b를 변으로 하는 평행 사변형의 '대각선을 구하는 연산'으로 해석할 수 있다."
   ]
  },
  {
   "cell_type": "code",
   "execution_count": 7,
   "metadata": {},
   "outputs": [
    {
     "name": "stdout",
     "output_type": "stream",
     "text": [
      "[3 4]\n"
     ]
    }
   ],
   "source": [
    "#리스트 4-1-(7)\n",
    "a = np.array([2,1])\n",
    "b = np.array([1,3])\n",
    "print(a + b)"
   ]
  },
  {
   "cell_type": "markdown",
   "metadata": {},
   "source": [
    "**a + b**의 덧셈을 하면 기대한 대답이 되돌아온다. a와 b가 list형이 아닌 벡터로 다루어지고 있는 것을 알 수 있다."
   ]
  },
  {
   "cell_type": "code",
   "execution_count": 9,
   "metadata": {},
   "outputs": [
    {
     "data": {
      "text/plain": [
       "[1, 2, 3, 4]"
      ]
     },
     "execution_count": 9,
     "metadata": {},
     "output_type": "execute_result"
    }
   ],
   "source": [
    "x = [1,2]\n",
    "y = [3,4]\n",
    "x + y"
   ]
  },
  {
   "cell_type": "markdown",
   "metadata": {},
   "source": [
    "뻴셈도 마찬가지이다.\n",
    "<br/>\n",
    "<img src=\"img/415-2.png\" width=\"700\" align=\"left\">"
   ]
  },
  {
   "cell_type": "code",
   "execution_count": 12,
   "metadata": {},
   "outputs": [
    {
     "name": "stdout",
     "output_type": "stream",
     "text": [
      "[ 1 -2]\n"
     ]
    }
   ],
   "source": [
    "#리스트 4-1-(8)\n",
    "a = np.array([2,1])\n",
    "b = np.array([1,3])\n",
    "print(a - b)"
   ]
  },
  {
   "cell_type": "markdown",
   "metadata": {},
   "source": [
    "<br/><br/><br/>\n",
    "## 4.1.6 스칼라의 곱셈\n",
    "\n",
    "스칼라에 벡터를 곱하면 스칼라 값이 벡터의 요소 전체에 적용된다.\n",
    "<img src=\"img/416.png\" width=\"700\" align=\"left\">"
   ]
  },
  {
   "cell_type": "code",
   "execution_count": 13,
   "metadata": {},
   "outputs": [
    {
     "name": "stdout",
     "output_type": "stream",
     "text": [
      "[4 2]\n"
     ]
    }
   ],
   "source": [
    "# 리스트 4-1-(9)\n",
    "\n",
    "print(2 * a)"
   ]
  },
  {
   "cell_type": "markdown",
   "metadata": {},
   "source": [
    "<br/><br/><br/>\n",
    "## 4.1.7 내적\n",
    "벡터에는 내적이라고 부르는 곱셈 연산이 있으며, 머신러닝의 수학에서 자주 등장한다. 내적은 같은 차원을 가진 두 벡터 간의 연산으로, \"·\"로 나타낸다. 대응하는 요소들을 곱한뒤 더한 값을 취한다. 내적의 예는 다음과 같다. <br/><br/>\n",
    "<img src=\"img/417.png\" width=\"700\" align=\"left\">\n",
    "<br/><br/><br/><br/><br/><br/><br/><br/><br/><br/><br/><br/><br/><br/><br/>\n",
    "내적이란 그림과 같이 b를 c로 투영한 벡터를 b'로 하여 b'와 c의 길이를 곱해 합한 것이다.\n",
    "<br/>\n",
    "내적이 큰 값을 갖는 경우는 두 벡터가 비슷한 방향을 향할 때이다. 반대로 내적이 작은 값을 갖는 경우는 두 벡터가 수직에 가까울 때이다. 완전한 수직이 되면 내적은 0이다. 즉, 내적은 두 벡터의 유사성과 관련이 있다.\n",
    "<br/>\n",
    "내적은 벡터의 크기 자체에도 관계됨을 주의하자. 두 벡터의 방향이 같더라도, 한 쪽의 벡터 크기가 2배가 되면 내적도 2배가 된다."
   ]
  },
  {
   "cell_type": "code",
   "execution_count": 4,
   "metadata": {},
   "outputs": [
    {
     "name": "stdout",
     "output_type": "stream",
     "text": [
      "10\n"
     ]
    }
   ],
   "source": [
    "#리스트 4-1-(10)\n",
    "b = np.array([1,3])\n",
    "c = np.array([4,2])\n",
    "print(b.dot(c))"
   ]
  },
  {
   "cell_type": "markdown",
   "metadata": {},
   "source": [
    "<br/><br/><br/>\n",
    "## 4.1.8 벡터의 크기\n",
    "벡터의 크기는 |와 |의 사이에 나타낸다. 2차원 베터의 크기는 다음과 같이 계산할 수 있다.\n",
    "<img src=\"img/418.png\" width=\"500\">"
   ]
  },
  {
   "cell_type": "markdown",
   "metadata": {},
   "source": [
    "파이썬에서는 **np.linalg.norm()**으로 벡터의 크기를 구할 수 있다."
   ]
  },
  {
   "cell_type": "code",
   "execution_count": 5,
   "metadata": {},
   "outputs": [
    {
     "name": "stdout",
     "output_type": "stream",
     "text": [
      "3.1622776601683795\n"
     ]
    }
   ],
   "source": [
    "# 리스트 4-1-(11)\n",
    "a = np.array([1,3])\n",
    "print(np.linalg.norm(a))"
   ]
  },
  {
   "cell_type": "markdown",
   "metadata": {},
   "source": [
    "<br/><br/><br/>\n",
    "# 4.2 합의 기호\n",
    "5.1절부터 합의 기호 ∑(시그마)가 등장한다. ∑는 긴 덧셈을 간결하게 나타내는 방법이다. 다음은 '∑ 기호의 오른쪽 f(n)에 대해서, n을 a부터 1씩 늘력 b가 될 때까지 변화시키면서 모두 더한다'는 의미를 가지고 있다. <br/>\n",
    "<img src=\"img/420.png\" width=\"600\" align=\"left\">"
   ]
  },
  {
   "cell_type": "markdown",
   "metadata": {},
   "source": [
    "## 4.2.1 합의 기호가 들어간 수식을 변형시키기\n",
    "<img src=\"img/421.png\" width=\"700\" align=\"left\">"
   ]
  },
  {
   "cell_type": "markdown",
   "metadata": {},
   "source": [
    "<br/><br/><br/>\n",
    "## 4.2.2 합을 내적으로 계산하기\n",
    "∑는 프로그래밍에서 말하는 for문과 같은 것이지만, 내적에도 관계하고 있으므로 ∑는 내적으로도 계산할 수 있다. 예를 들어 1부터 1000까지의 합은 다음과 같다. <br/>\n",
    "<img src=\"img/422.png\" width=\"700\" align=\"left\">"
   ]
  },
  {
   "cell_type": "code",
   "execution_count": 9,
   "metadata": {},
   "outputs": [
    {
     "name": "stdout",
     "output_type": "stream",
     "text": [
      "500500.0\n"
     ]
    }
   ],
   "source": [
    "#리스트 4-2-(1)\n",
    "import numpy as np\n",
    "a = np.ones(1000) #[1 1 ... 1]\n",
    "b = np.arange(1,1001) #[1 2 3 ... 1000]\n",
    "print(a.dot(b))"
   ]
  },
  {
   "cell_type": "markdown",
   "metadata": {},
   "source": [
    "## 4.3 곱의 기호\n",
    "합의 기호∑와 사용법이 비슷한 곱의 기호 π도 있다. <br/>\n",
    "<img src=\"img/430.png\" width=\"600\" align=\"left\">"
   ]
  },
  {
   "cell_type": "markdown",
   "metadata": {},
   "source": [
    "# 4.4 미분\n",
    "머신러닝은 결국 함수에서 최소나 최대인 입력을 찾는 문제(최적화 문제)이다. 함수의 최소 지점은 기울기가 0이 되는 성질이 있으므로 이러한 문제를 풀려면 함수의 기울기를 아는 것이 중요하다. 그 함수의 기울기를 도출하는 방법이 '미분'이다. 이 책에서는 오차 함수의 최솟값을 구하기 위한 방법으로 편미분이 등장한다.\n",
    "\n",
    "## 4.4.1 다항식의 미분\n",
    "<img src=\"img/441.png\" width=\"400\" align=\"left\">\n",
    "<br/><br/><br/><br/><br/><br/><br/><br/><br/><br/>\n",
    "## 4.4.2 미분 기호가 들어간 수식의 변형\n",
    "<img src=\"img/442.png\" width=\"700\" align=\"left\">\n",
    "<br/><br/><br/><br/><br/><br/><br/><br/><br/><br/><br/>\n",
    "\n",
    "## 4.4.3 중첩된 함수의 미분\n",
    "<img src=\"img/443.png\" width=\"500\" align=\"left\">\n",
    "\n",
    "<br/><br/><br/><br/><br/><br/><br/><br/><br/><br/><br/><br/><br/><br/><br/><br/><br/><br/><br/>\n",
    "## 4.4.4 중첩된 함수의 미분: 연쇄 법칙\n",
    "\n",
    "<img src=\"img/444.png\" width=\"600\" align=\"left\">"
   ]
  },
  {
   "cell_type": "markdown",
   "metadata": {},
   "source": [
    "<br/><br/>\n",
    "# 4.5 편미분\n",
    "## 4.5.1 편미분이란\n",
    "머신러닝에서 실제로 사용하는 것은 순수한 미분이 아닌, 편미분이다. 복수의 변수를 갖는 함수의 예로, 다음과 같은 w0와 w1의 함수를 생각한다. 이 중 하나의 변수만, 예를 들어 w0에만 주목하여 다른 변수, 여기서는 w1을 상수라고 간주하여 미분하는 것을 **편미분** 이라고 한다.\n",
    "<img src=\"img/451.png\" width=\"500\" align=\"left\">\n",
    "<br/><br/><br/><br/><br/><br/><br/><br/><br/><br/><br/><br/><br/><br/><br/><br/><br/><br/>\n",
    "\n",
    "## 4.5.2 편미분과 도형\n",
    "편미분은 도형적으로 무엇을 나타낼까? f(w0,w1)함수는 3장에서 해설한 것처럼 3차원 그래프이며, 등고선 플롯을 나타내는 그래프가 된다. \n",
    "\n",
    "\n",
    "    \"기울기(gradient 그레이디언트)란 벡터 미적분학에서 스칼라장의 최대의 증가율을 나타내는 벡터장을 뜻한다. 기울기를 나타내는 벡터장을 화살표로 표시할 때 화살표의 방향은 증가율이 최대가 되는 방향이며, 화살표의 크기는 증가율이 최대일 때의 증가율의 크기를 나타낸다.\" - wikipedia -\n",
    "\n",
    "\n",
    "기울기는 스칼라장의 최대의 증가율을 나타내기에, 3차원인 등고선에서 함수의 변화량이 가장 큰 방향은 등고선에 수직인 방향이 될 것이다. \n",
    "\n",
    "위의 4.5.1의 식에서 각각 w0에 대한, w1에 대한 두개의 기울기를 세트로 하여 벡터로 해석할 수 있다. 이것을 **f**의 **w**에 대한 **경사(기울기 벡터,gradient)**라고 부르며 다음과 같이 나타낸다. 경사는 기울기가 가장 큰 방향과 그 크기를 나타낸다.\n",
    "\n",
    "<img src=\"img/452.png\" width=\"300\" align=\"left\">"
   ]
  },
  {
   "cell_type": "markdown",
   "metadata": {},
   "source": [
    "## 4.5.3 경사를 그림으로 나타내기 \n",
    "실제로 경사를 그림으로 나타내보자. 다음은 f를 등고선으로 표시하고, w의 공간을 격자형으로 나눴을 때 각 점에서의 경사를 화살표로 그린다."
   ]
  },
  {
   "cell_type": "code",
   "execution_count": 37,
   "metadata": {},
   "outputs": [
    {
     "data": {
      "image/png": "[encoded data removed]",
      "text/plain": [
       "<Figure size 648x288 with 2 Axes>"
      ]
     },
     "metadata": {
      "needs_background": "light"
     },
     "output_type": "display_data"
    }
   ],
   "source": [
    "#리스트 4-2-(2)\n",
    "import numpy as np\n",
    "import matplotlib.pyplot as plt\n",
    "\n",
    "def f(w0,w1): #(A) f의 정의\n",
    "    return w0**2 + 2 * w0 * w1 + 3\n",
    "def df_dw0(w0,w1): # (B) f의 w0에 관한 편미분\n",
    "    return 2 * w0 + 2 * w1\n",
    "def df_dw1(w0,w1): #(C) f의 w1에 관한 편미분\n",
    "    return 2 * w0 + 0 * w1\n",
    "\n",
    "w_range = 2\n",
    "dw = 0.25\n",
    "w0 = np.arange(-w_range, w_range + dw, dw)\n",
    "w1 = np.arange(-w_range, w_range + dw, dw)\n",
    "wn = w0.shape[0] #shape[0]는 전체 행의 개수, shape[1]는 전체 열의 개수 출력\n",
    "ww0, ww1 = np.meshgrid(w0,w1) # (D)\n",
    "ff = np.zeros((len(w0),len(w1)))\n",
    "dff_dw0 = np.zeros((len(w0),len(w1)))\n",
    "dff_dw1 = np.zeros((len(w0),len(w1)))\n",
    "for i0 in range(wn): # (E)\n",
    "    for i1 in range(wn):\n",
    "        ff[i1,i0] = f(w0[i0], w1[i1])\n",
    "        dff_dw0[i1,i0] = f(w0[i0], w1[i1])\n",
    "        dff_dw1[i1,i0] = f(w0[i0], w1[i1])\n",
    "\n",
    "plt.figure(figsize=(9,4)) # 전체 영역의 크기 지정\n",
    "plt.subplots_adjust(wspace = 0.3) #그래프들 간의 간격 지정\n",
    "plt.subplot(1,2,1) #세로 1, 가로 2로 나눈 3번째에 그래프가 그려짐\n",
    "cont = plt.contour(ww0, ww1, ff, 10, colors='k') # (F) f의 등고선 플롯 작성\n",
    "cont.clabel(fmt='%2.0f', fontsize=8)\n",
    "plt.xlabel('$w_0$', fontsize=14)\n",
    "plt.ylabel('$w_1$', fontsize=14)\n",
    "plt.xticks(range(-w_range, w_range + 1, 1)) #x 범위 및 간격\n",
    "plt.yticks(range(-w_range, w_range + 1, 1))\n",
    "plt.xlim(-w_range - 0.5, w_range + 0.5)  #여백 지정\n",
    "plt.ylim(-w_range - 0.5, w_range + 0.5)  #여백 지정\n",
    "\n",
    "plt.subplot(1,2,2)\n",
    "plt.quiver(ww0,ww1, dff_dw0, dff_dw1) # (G) f의 경사 벡터 표시, 기울기 벡터 그리기 좋은 함수(경사가 화살표로 표시됨)\n",
    "plt.xlabel('$w_0$', fontsize=14)\n",
    "plt.ylabel('$w_1$', fontsize=14)\n",
    "plt.xticks(range(-w_range, w_range + 1, 1)) #x 범위 및 간격\n",
    "plt.yticks(range(-w_range, w_range + 1, 1))\n",
    "plt.xlim(-w_range - 0.5, w_range + 0.5)  #여백 지정\n",
    "plt.ylim(-w_range - 0.5, w_range + 0.5)  #여백 지정\n",
    "\n",
    "plt.show()"
   ]
  },
  {
   "cell_type": "markdown",
   "metadata": {},
   "source": [
    "(D)에서는 격자 모양으로 나눈 **w0**와 **w1**을 2차원 배열 **ww0**와 **ww1**에 저장하고 있다. 이 **ww0**와 **ww1**에 대한 f와 편미분의 값이 (E)로 계산되며,**ff**와 **dff_dw0, dff_dw1**에 저장된다. f의 등고선 플롯의 수치를 보면 f는 오른쪽 위와 왼쪽아래가 높고, 왼쪽위와 오른쪽 아래가 낮은 지형을 볼 수 있다. 오른쪽은 이 지형의 경사이다. 화살표는 각 점에서 경사가 높은 쪽을 향하고 있고, 또한 경사가 가파른 정도(등고선의 간격이 좁을수록) 화살표가 긴 것도 알 수 있다. \n",
    "<br/>\n",
    "화살표를 따라가면, 어느 지점에서 시작하더라도 그래프의 보다 높은 부분으로 진행한다. 반대로 화살표를 거꾸로 따라가면 지형의 보다 낮은 부분으로 진행한다. 이렇게 경사는 그 함수의 최대점과 최소점을 찾는 데 중요한 개념이다. 머신러닝에서는 오차 함수의 최소점을 구하기 위해 오차 함수의 경사를 계산한다.(5.1절)"
   ]
  },
  {
   "cell_type": "markdown",
   "metadata": {},
   "source": [
    "## 4.5.4 다변수의 중첩 함수의 미분\n",
    "다변수 함수(multivariate function, 둘 이상의 독립 변수를 갖는 함수)가 중첩되어 있는 경우는 어떨까? 이 문제는 여러 층으로 된 신경망의 합슬 규칙을 도출할 때 등장한다.(7장)\n",
    "<br/>\n",
    "예를 들어, g0와 g1이 w0와 w1의 함수에서, f가 g0와 g1의 함수가 된 경우다.\n",
    "<img src=\"img/454.png\" width=\"700\" align=\"left\">"
   ]
  },
  {
   "cell_type": "markdown",
   "metadata": {},
   "source": [
    "실제로 신경망 학습 규칙을 가르칠 경우에는 f(g0(w0,w1),g1(w0,w1)...gM(w0,w1))와 같이 2개 이상의 함수가 중첩된다.\n",
    "<br/><br/><br/>\n",
    "## 4.5.5 합과 미분의 교환\n",
    "미분과 합의 기호는 순서를 바꿀 수 있다.\n",
    "<br/>\n",
    "<img src=\"img/455.png\" width=\"700\" align=\"left\">"
   ]
  },
  {
   "cell_type": "markdown",
   "metadata": {},
   "source": [
    "# 출처: 파이썬으로 배우는 머신러닝의 교과서 -한빛미디어-"
   ]
  }
 ],
 "metadata": {
  "kernelspec": {
   "display_name": "Python 3",
   "language": "python",
   "name": "python3"
  },
  "language_info": {
   "codemirror_mode": {
    "name": "ipython",
    "version": 3
   },
   "file_extension": ".py",
   "mimetype": "text/x-python",
   "name": "python",
   "nbconvert_exporter": "python",
   "pygments_lexer": "ipython3",
   "version": "3.7.1"
  }
 },
 "nbformat": 4,
 "nbformat_minor": 2
}
